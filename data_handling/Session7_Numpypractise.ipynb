{
 "cells": [
  {
   "cell_type": "markdown",
   "metadata": {},
   "source": [
    "### Creating an Array using Numpy"
   ]
  },
  {
   "cell_type": "code",
   "execution_count": 2,
   "metadata": {},
   "outputs": [
    {
     "data": {
      "text/plain": [
       "array(['Pakora', 'Samosa', 'Raita'], dtype='<U6')"
      ]
     },
     "execution_count": 2,
     "metadata": {},
     "output_type": "execute_result"
    }
   ],
   "source": [
    "# array creation 1D\n",
    "import numpy as np\n",
    "food = np.array([\"Pakora\",\"Samosa\",\"Raita\"])\n",
    "food"
   ]
  },
  {
   "cell_type": "code",
   "execution_count": 3,
   "metadata": {
    "scrolled": true
   },
   "outputs": [
    {
     "data": {
      "text/plain": [
       "numpy.ndarray"
      ]
     },
     "execution_count": 3,
     "metadata": {},
     "output_type": "execute_result"
    }
   ],
   "source": [
    "# array type\n",
    "price = np.array([5,5,5])\n",
    "price\n",
    "type(price)"
   ]
  },
  {
   "cell_type": "code",
   "execution_count": 4,
   "metadata": {},
   "outputs": [
    {
     "data": {
      "text/plain": [
       "3"
      ]
     },
     "execution_count": 4,
     "metadata": {},
     "output_type": "execute_result"
    }
   ],
   "source": [
    "len(price)\n",
    "len(food)"
   ]
  },
  {
   "cell_type": "code",
   "execution_count": 5,
   "metadata": {},
   "outputs": [
    {
     "data": {
      "text/plain": [
       "array([5, 5, 5])"
      ]
     },
     "execution_count": 5,
     "metadata": {},
     "output_type": "execute_result"
    }
   ],
   "source": [
    "# price[3] Index error\n",
    "price[2]\n",
    "price[0:2]\n",
    "z = price[0:]\n",
    "z\n"
   ]
  },
  {
   "cell_type": "code",
   "execution_count": 6,
   "metadata": {},
   "outputs": [
    {
     "data": {
      "text/plain": [
       "'Samosa'"
      ]
     },
     "execution_count": 6,
     "metadata": {},
     "output_type": "execute_result"
    }
   ],
   "source": [
    "p= food[1]\n",
    "p"
   ]
  },
  {
   "cell_type": "code",
   "execution_count": 7,
   "metadata": {},
   "outputs": [
    {
     "data": {
      "text/plain": [
       "5.0"
      ]
     },
     "execution_count": 7,
     "metadata": {},
     "output_type": "execute_result"
    }
   ],
   "source": [
    "#Array k functions\n",
    "price.mean()"
   ]
  },
  {
   "cell_type": "code",
   "execution_count": 8,
   "metadata": {},
   "outputs": [
    {
     "data": {
      "text/plain": [
       "array([1., 1., 1., 1., 1.])"
      ]
     },
     "execution_count": 8,
     "metadata": {},
     "output_type": "execute_result"
    }
   ],
   "source": [
    "#zeros array\n",
    "np.zeros(6)\n",
    "#1s array\n",
    "np.ones(5)"
   ]
  },
  {
   "cell_type": "code",
   "execution_count": 9,
   "metadata": {},
   "outputs": [
    {
     "data": {
      "text/plain": [
       "array([0., 0., 0., 0., 0., 0., 0.])"
      ]
     },
     "execution_count": 9,
     "metadata": {},
     "output_type": "execute_result"
    }
   ],
   "source": [
    "np.empty(7)"
   ]
  },
  {
   "cell_type": "code",
   "execution_count": 10,
   "metadata": {},
   "outputs": [
    {
     "data": {
      "text/plain": [
       "array([ 2,  7, 12, 17])"
      ]
     },
     "execution_count": 10,
     "metadata": {},
     "output_type": "execute_result"
    }
   ],
   "source": [
    "# with a spacing of interval \n",
    "np.arange(2,20,5)"
   ]
  },
  {
   "cell_type": "code",
   "execution_count": 11,
   "metadata": {},
   "outputs": [
    {
     "data": {
      "text/plain": [
       "array([0, 1, 2, 3, 4, 5, 6, 7, 8, 9])"
      ]
     },
     "execution_count": 11,
     "metadata": {},
     "output_type": "execute_result"
    }
   ],
   "source": [
    "np.arange(10)\n",
    "# last element is excluded"
   ]
  },
  {
   "cell_type": "code",
   "execution_count": 12,
   "metadata": {},
   "outputs": [
    {
     "data": {
      "text/plain": [
       "array([ 3.        ,  4.88888889,  6.77777778,  8.66666667, 10.55555556,\n",
       "       12.44444444, 14.33333333, 16.22222222, 18.11111111, 20.        ])"
      ]
     },
     "execution_count": 12,
     "metadata": {},
     "output_type": "execute_result"
    }
   ],
   "source": [
    "# line space at specific interval (10 nums at fixed interval)\n",
    "# isme akhri num ko include kar leta hay\n",
    "np.linspace(3,20,10)\n"
   ]
  },
  {
   "cell_type": "code",
   "execution_count": 13,
   "metadata": {},
   "outputs": [
    {
     "data": {
      "text/plain": [
       "array([3706497945030232697, 3328209646291068976, 4123389851770370361,\n",
       "       3761694506697177401, 2340008602714185781, 4485090493615726966,\n",
       "       3832057680150884384, 3832617357338806825, 4122818071313266484,\n",
       "       2531084808905307188, 8241998674912177440, 8319675098974521977,\n",
       "       4210425200352785012, 7883868074393078282, 8386103967300611952,\n",
       "       3342349787993173104, 6998721842843253104, 4485033774059364467,\n",
       "       7935409752961982526, 7021238737122897520, 3900165871320458595,\n",
       "       4470430867062333484, 8079524940746866238, 2915077370344797292,\n",
       "       3325662225219202168, 8079506593066003495, 3253604629844359208,\n",
       "       8079506593066003495, 2318273471217938483, 4485033450774801703,\n",
       "       7816329705848578110, 2968483698408189289, 2968470478583048202,\n",
       "       8389203489669922314,   11584967480472366, 1009865545543123192,\n",
       "                         0,     140723773312096,                3905,\n",
       "                        -1, 7954884616238688484,                   0,\n",
       "       8174913433131640140, 8029953815596917109, 7809639147579013484,\n",
       "       3317475270149629472, 4195777553609138222, 8316292897441849354,\n",
       "       8079584645411202592, 8367800735126286945], dtype=int64)"
      ]
     },
     "execution_count": 13,
     "metadata": {},
     "output_type": "execute_result"
    }
   ],
   "source": [
    "# specify your data types\n",
    "np.empty(50, dtype=np.int64)"
   ]
  },
  {
   "cell_type": "markdown",
   "metadata": {},
   "source": [
    "### Array functions"
   ]
  },
  {
   "cell_type": "code",
   "execution_count": 14,
   "metadata": {},
   "outputs": [
    {
     "data": {
      "text/plain": [
       "array([  0,   2,   3,   4,   5,   6,  10,  10,  12,  15, 100, 320])"
      ]
     },
     "execution_count": 14,
     "metadata": {},
     "output_type": "execute_result"
    }
   ],
   "source": [
    "a = np.array ([10,12,15,2,4,6,100,320,0,5,10,3])\n",
    "a.sort()\n",
    "a\n"
   ]
  },
  {
   "cell_type": "code",
   "execution_count": 15,
   "metadata": {},
   "outputs": [
    {
     "data": {
      "text/plain": [
       "array([  0. ,   2. ,   3. ,   3.4,   4. ,   5. ,   6. ,  10. ,  10. ,\n",
       "        10.2,  12. ,  15. ,  45.5,  53.6,  91.6, 100. , 320. ])"
      ]
     },
     "execution_count": 15,
     "metadata": {},
     "output_type": "execute_result"
    }
   ],
   "source": [
    "b = np.array([10.2,3.4,53.6,91.6,45.5])\n",
    "c= np.concatenate((a,b))\n",
    "c\n",
    "c.sort()\n",
    "c\n"
   ]
  },
  {
   "cell_type": "markdown",
   "metadata": {},
   "source": [
    "## 2D arrays"
   ]
  },
  {
   "cell_type": "code",
   "execution_count": 16,
   "metadata": {},
   "outputs": [
    {
     "data": {
      "text/plain": [
       "array([[1, 2],\n",
       "       [5, 4],\n",
       "       [6, 7],\n",
       "       [8, 9]])"
      ]
     },
     "execution_count": 16,
     "metadata": {},
     "output_type": "execute_result"
    }
   ],
   "source": [
    "# You have to have same no dimensions to concatenate\n",
    "a = np.array([[1,2],[5,4]])\n",
    "b = np.array([[6,7,],[8,9]])\n",
    "\n",
    "c = np.concatenate((a,b),axis=0)\n",
    "c"
   ]
  },
  {
   "cell_type": "code",
   "execution_count": 17,
   "metadata": {
    "scrolled": false
   },
   "outputs": [
    {
     "data": {
      "text/plain": [
       "array([[1, 2, 6, 7],\n",
       "       [5, 4, 8, 9]])"
      ]
     },
     "execution_count": 17,
     "metadata": {},
     "output_type": "execute_result"
    }
   ],
   "source": [
    "c = np.concatenate((a,b),axis=1)\n",
    "c"
   ]
  },
  {
   "cell_type": "markdown",
   "metadata": {},
   "source": [
    "## 3D Arrays"
   ]
  },
  {
   "cell_type": "code",
   "execution_count": 18,
   "metadata": {},
   "outputs": [
    {
     "name": "stdout",
     "output_type": "stream",
     "text": [
      "[[[0 1 2 3]\n",
      "  [4 5 6 7]]\n",
      "\n",
      " [[0 1 2 3]\n",
      "  [4 5 6 7]]\n",
      "\n",
      " [[0 1 2 3]\n",
      "  [4 5 6 7]]]\n"
     ]
    },
    {
     "data": {
      "text/plain": [
       "3"
      ]
     },
     "execution_count": 18,
     "metadata": {},
     "output_type": "execute_result"
    }
   ],
   "source": [
    "a = np.array([\n",
    "     [[0,1,2,3],[4,5,6,7]],              # 1st 2d dim of a 3d \n",
    "               [[0,1,2,3],[4,5,6,7]],    # 2nd dimension of a 3d\n",
    "               [[0,1,2,3],[4,5,6,7]]     # 3rd dimension of a 3d\n",
    " ])\n",
    "print(a)\n",
    "a.ndim"
   ]
  },
  {
   "cell_type": "code",
   "execution_count": 19,
   "metadata": {
    "scrolled": false
   },
   "outputs": [
    {
     "name": "stdout",
     "output_type": "stream",
     "text": [
      "[[1 2 3 4]\n",
      " [1 2 3 4]\n",
      " [1 2 3 4]]\n",
      "The dimension of array b is 2D 2\n",
      "The size (no of elements) of array b is 12\n",
      "The shape  of array a is 3 dimension and 2 row 4 column as above example that is  (3, 2, 4)\n",
      "The shape  of array b is 3 dimension and column first row last above example that is  (3, 4)\n"
     ]
    }
   ],
   "source": [
    "import numpy as np\n",
    "b = np.array([\n",
    "    [1,2,3,4],[1,2,3,4],[1,2,3,4]\n",
    "             ])\n",
    "print(b)\n",
    "c=b.ndim\n",
    "print(\"The dimension of array b is 2D\",c)\n",
    "d=b.size\n",
    "print(\"The size (no of elements) of array b is\",d)\n",
    "e= a.shape\n",
    "print(\"The shape  of array a is 3 dimension and 2 row 4 column as above example that is \",e)   \n",
    "\n",
    "f= b.shape\n",
    "print(\"The shape  of array b is 3 dimension and column first row last above example that is \",f)   "
   ]
  },
  {
   "cell_type": "code",
   "execution_count": 20,
   "metadata": {},
   "outputs": [
    {
     "name": "stdout",
     "output_type": "stream",
     "text": [
      "[0 1 2 3 4 5]\n",
      "the dimension of a is 1\n",
      "[[0 1]\n",
      " [2 3]\n",
      " [4 5]]\n",
      "The converted dimension of 1 D into b is 2d= 2\n"
     ]
    }
   ],
   "source": [
    "# reshaaping concept (like transpose) and dimension conversion\n",
    "# a = np.arange(5)    this will generate error cux (3*2=6 me reshape is a hassle) see line 4\n",
    "a = np.arange(6)\n",
    "print(a)\n",
    "c=a.ndim\n",
    "print(\"the dimension of a is\",c)\n",
    "b = a.reshape(3,2)\n",
    "print(b)\n",
    "d=b.ndim\n",
    "print(\"The converted dimension of\",c,\"D into b is 2d=\",d)"
   ]
  },
  {
   "cell_type": "code",
   "execution_count": 21,
   "metadata": {},
   "outputs": [
    {
     "data": {
      "text/plain": [
       "array([[0, 1, 2, 3, 4, 5]])"
      ]
     },
     "execution_count": 21,
     "metadata": {},
     "output_type": "execute_result"
    }
   ],
   "source": [
    "# More Reshape\n",
    "import numpy as np\n",
    "f= np.reshape(b, newshape=(1,6), order='C')\n",
    "f\n"
   ]
  },
  {
   "cell_type": "markdown",
   "metadata": {},
   "source": [
    "#### Converting 1D array to 2D array by Axes Method"
   ]
  },
  {
   "cell_type": "code",
   "execution_count": 22,
   "metadata": {},
   "outputs": [
    {
     "name": "stdout",
     "output_type": "stream",
     "text": [
      "[1 2 3 4 5 6 7 8 9]\n",
      "the shape of 1D array is 9 elements (9,)\n",
      "a is converted to 2D. Nishani is braces [[1 2 3 4 5 6 7 8 9]]\n",
      "the dimension of b is  (1, 9)\n",
      "a is converted to 2D. Nishani is braces [[1]\n",
      " [2]\n",
      " [3]\n",
      " [4]\n",
      " [5]\n",
      " [6]\n",
      " [7]\n",
      " [8]\n",
      " [9]]\n",
      "the dimension of b is  (9, 1)\n"
     ]
    }
   ],
   "source": [
    "a = np.array([1,2,3,4,5,6,7,8,9])\n",
    "print(a)\n",
    "a.shape\n",
    "print(\"the shape of 1D array is 9 elements\",a.shape)\n",
    "\n",
    "# row wise 2D conversion\n",
    "b=a[np.newaxis,:]\n",
    "print(\"a is converted to 2D. Nishani is braces\",b)\n",
    "print(\"the dimension of b is \",b.shape)\n",
    "\n",
    "# column wise 2D conversion\n",
    "c=a[:,np.newaxis]\n",
    "print(\"a is converted to 2D. Nishani is braces\",c)\n",
    "print(\"the dimension of b is \",c.shape)\n"
   ]
  },
  {
   "cell_type": "markdown",
   "metadata": {},
   "source": [
    "#### Adjusting dimensions of converted 2D from above"
   ]
  },
  {
   "cell_type": "code",
   "execution_count": 23,
   "metadata": {},
   "outputs": [
    {
     "data": {
      "text/plain": [
       "5"
      ]
     },
     "execution_count": 23,
     "metadata": {},
     "output_type": "execute_result"
    }
   ],
   "source": [
    "d = c.reshape(3,3)\n",
    "d[1][1]"
   ]
  }
 ],
 "metadata": {
  "kernelspec": {
   "display_name": "Python 3",
   "language": "python",
   "name": "python3"
  },
  "language_info": {
   "codemirror_mode": {
    "name": "ipython",
    "version": 3
   },
   "file_extension": ".py",
   "mimetype": "text/x-python",
   "name": "python",
   "nbconvert_exporter": "python",
   "pygments_lexer": "ipython3",
   "version": "3.10.1"
  }
 },
 "nbformat": 4,
 "nbformat_minor": 4
}
