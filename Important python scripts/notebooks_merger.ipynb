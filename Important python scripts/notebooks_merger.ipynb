{
 "cells": [
  {
   "cell_type": "code",
   "execution_count": 12,
   "metadata": {},
   "outputs": [],
   "source": [
    "import nbformat\n",
    "\n",
    "# Reading the notebooks\n",
    "notebook0 = nbformat.read('final_notebook.ipynb', 4)\n",
    "notebook1 = nbformat.read('open_cv/basic.ipynb', 4) # 4 is the version of the notebook format to return\n",
    "# notebook2 = nbformat.read('linear_regression/ml_03.ipynb', 4) \n",
    "# notebook3 = nbformat.read('linear_regression/ml_04.ipynb', 4) \n",
    "# notebook4 = nbformat.read('regression_towards_ds/code.ipynb', 4) \n",
    "# notebook5 = nbformat.read('logistic_regression/logreg_image.ipynb', 4) \n",
    "# notebook6 = nbformat.read('decision_tree_classifier/biryani.ipynb', 4) \n",
    "# notebook7 = nbformat.read('decision_tree_classifier/iris_dtc.ipynb', 4) \n",
    "# notebook8 = nbformat.read('k_nearest neighbour/knn.ipynb', 4) \n",
    "# notebook9 = nbformat.read('Random_forest_regressor/rfc.ipynb', 4) \n",
    "# notebook10 = nbformat.read('Random_forest_regressor/rfr.ipynb', 4) \n",
    "# notebook11 = nbformat.read('polynomial_regression/polynomial_reg.ipynb', 4) \n",
    "# notebook12 = nbformat.read('naive_bayes/naive_bayes_class.ipynb', 4)\n",
    "# notebook13 = nbformat.read('naive_bayes/naive_bayes_assign.ipynb', 4)\n",
    "# notebook14 = nbformat.read('support_vector_machine/svm.ipynb', 4)\n",
    "# notebook15 = nbformat.read('machine_Learning_workshop/Unsupervised_learning.ipynb', 4)\n",
    "# notebook16 = nbformat.read('machine_Learning_workshop/Neural_Network.ipynb', 4)\n",
    "\n",
    "\n",
    "\n",
    "\n",
    "\n",
    "# Creating a new notebook\n",
    "final_notebook = nbformat.v4.new_notebook(metadata=notebook1.metadata)\n",
    "\n",
    "# Concatenating the notebooks\n",
    "final_notebook.cells = notebook0.cells + notebook1.cells #+ notebook2.cells + notebook3.cells  + notebook4.cells + notebook5.cells + notebook6.cells + notebook7.cells+ notebook8.cells+ notebook9.cells+ notebook10.cells+ notebook11.cells+ notebook12.cells+ notebook13.cells+ notebook14.cells+ notebook15.cells+ notebook16.cells\n",
    "#final_notebook.cells = notebook1.cells + notebook2.cells + notebook3.cells + notebook4.cells\n",
    "# Saving the new notebook \n",
    "nbformat.write(final_notebook, 'final_notebook.ipynb')"
   ]
  },
  {
   "cell_type": "code",
   "execution_count": null,
   "metadata": {},
   "outputs": [],
   "source": []
  }
 ],
 "metadata": {
  "interpreter": {
   "hash": "aee06e46d793c32b5364488d456ae408a8b0e20983fba1d64adf012d351c0dc2"
  },
  "kernelspec": {
   "display_name": "Python 3.9.5 64-bit ('base': conda)",
   "language": "python",
   "name": "python3"
  },
  "language_info": {
   "codemirror_mode": {
    "name": "ipython",
    "version": 3
   },
   "file_extension": ".py",
   "mimetype": "text/x-python",
   "name": "python",
   "nbconvert_exporter": "python",
   "pygments_lexer": "ipython3",
   "version": "3.10.1"
  },
  "orig_nbformat": 4
 },
 "nbformat": 4,
 "nbformat_minor": 2
}
