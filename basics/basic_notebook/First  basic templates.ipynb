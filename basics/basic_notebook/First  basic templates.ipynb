{
 "cells": [
  {
   "cell_type": "markdown",
   "metadata": {},
   "source": [
    "# python ka chilla with baba_Ammar\n",
    "## How to use jupyter_notebook \n",
    "### Our basics of python\n",
    "1- My first program"
   ]
  },
  {
   "cell_type": "code",
   "execution_count": 1,
   "metadata": {},
   "outputs": [
    {
     "name": "stdout",
     "output_type": "stream",
     "text": [
      "5\n",
      "Hello world\n",
      "Learning python with Ammar\n"
     ]
    }
   ],
   "source": [
    "# my_first prog in python\n",
    "print(2+3)\n",
    "print(\"Hello world\")\n",
    "print(\"Learning python with Ammar\")"
   ]
  },
  {
   "cell_type": "markdown",
   "metadata": {},
   "source": [
    "*02- Operators*"
   ]
  },
  {
   "cell_type": "code",
   "execution_count": 2,
   "metadata": {
    "scrolled": true
   },
   "outputs": [
    {
     "name": "stdout",
     "output_type": "stream",
     "text": [
      "36\n",
      "1\n",
      "3.0\n",
      "3\n",
      "the power is  8\n"
     ]
    }
   ],
   "source": [
    "print(2+34)\n",
    "print(13%2)\n",
    "print(6/2)\n",
    "print(6//2)\n",
    "x = 2 ** 3\n",
    "print(\"the power is \",2**3)"
   ]
  },
  {
   "cell_type": "markdown",
   "metadata": {},
   "source": [
    "*03- Strings*"
   ]
  },
  {
   "cell_type": "code",
   "execution_count": 3,
   "metadata": {},
   "outputs": [
    {
     "name": "stdout",
     "output_type": "stream",
     "text": [
      "Test  for single quote\n",
      "Test for double quote\n",
      "Test for triple quote\n",
      "What's up   ?\n"
     ]
    }
   ],
   "source": [
    "print('Test  for single quote')\n",
    "print(\"Test for double quote\")\n",
    "print('''Test for triple quote''')\n",
    "print(\"What's up   ?\")"
   ]
  },
  {
   "cell_type": "markdown",
   "metadata": {},
   "source": [
    "*04-  Comments*"
   ]
  },
  {
   "cell_type": "code",
   "execution_count": 4,
   "metadata": {},
   "outputs": [
    {
     "name": "stdout",
     "output_type": "stream",
     "text": [
      "Learning python with Ammar\n"
     ]
    }
   ],
   "source": [
    "# print(2+3) print  operator functions\n",
    "# print(\"Hello world\")\n",
    "print(\"Learning python with Ammar\") # Comment with Ctrl + /\n"
   ]
  },
  {
   "cell_type": "markdown",
   "metadata": {},
   "source": [
    "*05- Variables*"
   ]
  },
  {
   "cell_type": "code",
   "execution_count": 5,
   "metadata": {},
   "outputs": [
    {
     "name": "stdout",
     "output_type": "stream",
     "text": [
      "x is  5\n",
      "The value of updated x is now 20\n",
      "We are learning Python with Ammar\n",
      "<class 'int'>\n",
      "<class 'str'>\n",
      "('Mangoes', 'Oranges')\n",
      "Mangoes, Oranges\n"
     ]
    }
   ],
   "source": [
    "#variables: Object containing specific values\n",
    "x = 5\n",
    "\n",
    "print(\"x is \",x)\n",
    "x=20\n",
    "print(\"The value of updated x is now\",x)\n",
    "\n",
    "y2 = (\"We are learning Python with Ammar\")\n",
    "print(y2)\n",
    "\n",
    "# types/class of variables\n",
    "type(x)\n",
    "print(type(x))\n",
    "\n",
    "print(type(y2))\n",
    "\n",
    "# Rules to assign a variable\n",
    "# 1. the variable should contain only from letters,numbers or underscores\n",
    "# 2. Donot start with number like 2y. It is wrong. you can use y2\n",
    "# 3. Donot use spaces\n",
    "# 4. Donot use keywords for eg Python k keywords used in functions for eg ( Break, mean, median, test)\n",
    "# 5. variable should be short and descriptive\n",
    "# 6. Case sensitivity (try using lower case letters)\n",
    "\n",
    "fruit_basket = \"Mangoes\", \"Oranges\"\n",
    "fruit_basket2 = \"Mangoes, Oranges\"\n",
    "\n",
    "print(fruit_basket)\n",
    "print(fruit_basket2)\n",
    "del x\n",
    "\n"
   ]
  },
  {
   "cell_type": "markdown",
   "metadata": {},
   "source": [
    "*06- Input variables*"
   ]
  },
  {
   "cell_type": "code",
   "execution_count": 6,
   "metadata": {},
   "outputs": [
    {
     "name": "stdout",
     "output_type": "stream",
     "text": [
      "What is your name? saad\n",
      "Wie alt sind Sie? 23\n",
      "Hello! saad 23  \n",
      " Oh So you are 28 , You are still young\n"
     ]
    }
   ],
   "source": [
    "# fruit_basket=\"Mangoes\"\n",
    "# print(fruit_basket)\n",
    "\n",
    "# #input  fn\n",
    "# fruit_basket = input(\"Which is your favourite fruit?   \")\n",
    "# print(fruit_basket)\n",
    "\n",
    "# # Input function of second stage\n",
    "\n",
    "# name= input(\"What is your name ? \")\n",
    "# greetings = \"Hello\"\n",
    "\n",
    "# print(greetings,  name)\n",
    "\n",
    "# Another way of stage 2 input function\n",
    "# name= input(\"What is your name ? \")\n",
    "# print(\"Hello!\",  name)\n",
    "\n",
    "# Input function of third stage\n",
    "\n",
    "name = input (\"What is your name? \")\n",
    "age = input (\"Wie alt sind Sie? \")\n",
    "greetings = \"Hello!\"\n",
    "\n",
    "print(greetings,name,age,\" \\n Oh So you are 28 , You are still young\",)"
   ]
  },
  {
   "cell_type": "markdown",
   "metadata": {},
   "source": [
    "*07- Conditional Logic*"
   ]
  },
  {
   "cell_type": "code",
   "execution_count": 7,
   "metadata": {},
   "outputs": [
    {
     "name": "stdout",
     "output_type": "stream",
     "text": [
      "False\n",
      "False\n",
      "True\n",
      "The eligibility says False\n",
      "<class 'int'>\n",
      "How old is Hammad5\n",
      "<class 'int'>\n",
      "The eligibility now says because of type conversion to int is  True\n"
     ]
    }
   ],
   "source": [
    "# equal to ==\n",
    "# not equal to  !=\n",
    "# less than     <\n",
    "# greater than  >\n",
    "# less than and equal to <=\n",
    "# greater than and equal to >=\n",
    "\n",
    "# logic oprators are boolean like TRUE/FALSE, YES/N0\n",
    "\n",
    "x = 4 != 4\n",
    "print(x)\n",
    "print(3>4)\n",
    "print(3<=3)\n",
    "\n",
    "#applications of logical operator includes \n",
    "hammad_age = 4\n",
    "age_at_school=5\n",
    "print(\"The eligibility says\",hammad_age==age_at_school)\n",
    "\n",
    "#input fns and logical operator\n",
    "age_at_school=5\n",
    "print(type(age_at_school))\n",
    "hammad_age= input(\"How old is Hammad\")\n",
    "hammad_age = int (hammad_age)\n",
    "print(type(hammad_age))\n",
    "print(\"The eligibility now says because of type conversion to int is \",hammad_age==age_at_school)\n",
    "\n",
    "\n"
   ]
  },
  {
   "cell_type": "markdown",
   "metadata": {},
   "source": [
    "*08- Type Conversion*"
   ]
  },
  {
   "cell_type": "code",
   "execution_count": 9,
   "metadata": {},
   "outputs": [
    {
     "name": "stdout",
     "output_type": "stream",
     "text": [
      "<class 'float'>\n",
      "False\n",
      "Enter your name \n",
      "2\n",
      "My name is   2\n"
     ]
    }
   ],
   "source": [
    "x = 10 # int\n",
    "y=10.2 # float\n",
    "z = \"Hello\" # string\n",
    "\n",
    "x = x*y\n",
    "\n",
    "print(type(x))\n",
    "\n",
    "x = 33\n",
    "str(x)\n",
    "print(x==3)\n",
    "\n",
    "name= input(\"Enter your name \\n\")\n",
    "name = int(name) # no compile cuz int me tune str dedia hay\n",
    "print(\"My name is  \",name)"
   ]
  },
  {
   "cell_type": "markdown",
   "metadata": {},
   "source": [
    "*09- if/else*"
   ]
  },
  {
   "cell_type": "code",
   "execution_count": 10,
   "metadata": {},
   "outputs": [
    {
     "name": "stdout",
     "output_type": "stream",
     "text": [
      "<class 'float'>\n",
      "False\n",
      "Enter your name \n",
      "2\n",
      "My name is   2\n"
     ]
    }
   ],
   "source": [
    "x = 10 # int\n",
    "y=10.2 # float\n",
    "z = \"Hello\" # string\n",
    "\n",
    "x = x*y\n",
    "\n",
    "print(type(x))\n",
    "\n",
    "x = 33\n",
    "str(x)\n",
    "print(x==3)\n",
    "\n",
    "name= input(\"Enter your name \\n\")\n",
    "name = int(name) # no compile cuz int me tune str dedia hay\n",
    "print(\"My name is  \",name)"
   ]
  },
  {
   "cell_type": "markdown",
   "metadata": {},
   "source": [
    "*10- Functions*"
   ]
  },
  {
   "cell_type": "code",
   "execution_count": 11,
   "metadata": {},
   "outputs": [
    {
     "name": "stdout",
     "output_type": "stream",
     "text": [
      "Wie alt sind sie\n",
      "We are learnin with Ammar\n",
      "We are learnin with Ammar\n",
      "We are learnin with Ammar\n",
      "We are learning Python with ammar 3rd method\n",
      "We are learning Python with ammar 3rd method\n",
      "We are learning Python with ammar 3rd method\n",
      "Hammad should go to bigger school\n",
      "38\n"
     ]
    }
   ],
   "source": [
    "print(\"Wie alt sind sie\")\n",
    "print(\"We are learnin with Ammar\")\n",
    "print(\"We are learnin with Ammar\")\n",
    "print(\"We are learnin with Ammar\")\n",
    "\n",
    "# #functions definition\n",
    "# #1\n",
    "# def print_codanics():\n",
    "#     print(\"We are learning with Ammar\")\n",
    "#     print(\"We are learning with Ammar\")\n",
    "#     print(\"We are learning with Ammar\")\n",
    "#     print(\"We are learning with Ammar\")\n",
    "\n",
    "# print_codanics()\n",
    "\n",
    "#functions definition\n",
    "#2\n",
    "# def print_codanics():\n",
    "#     text = \"We are learning with Ammar\"\n",
    "#     print(text)\n",
    "#     print(text)\n",
    "#     print(text)\n",
    "\n",
    "# print_codanics()\n",
    "\n",
    "#function def\n",
    "#3\n",
    "def print_codanics(text):\n",
    "    print(text)\n",
    "    print(text)\n",
    "    print(text)\n",
    "\n",
    "print_codanics(\"We are learning Python with ammar 3rd method\")\n",
    "\n",
    "#function def elif\n",
    "#4\n",
    "\n",
    "def school_calculator(age,text):\n",
    "    if age == 5:\n",
    "        print(\"Hammad can join the school\")\n",
    "\n",
    "    elif age >5:\n",
    "        print(\"Hammad should go to bigger school\")\n",
    "    else:\n",
    "        print(\"hammad is still a baby boy\")\n",
    "\n",
    "\n",
    "school_calculator(8,\"Hammad\")\n",
    "\n",
    "#function def of future (return scene)\n",
    "#5\n",
    "\n",
    "def future_age(age):\n",
    "    new_age = age +20\n",
    "    return new_age\n",
    "\n",
    "# z = future_age(18)\n",
    "print(future_age(18))"
   ]
  },
  {
   "cell_type": "markdown",
   "metadata": {},
   "source": [
    "*11-  Loops*"
   ]
  },
  {
   "cell_type": "code",
   "execution_count": 12,
   "metadata": {},
   "outputs": [
    {
     "name": "stdout",
     "output_type": "stream",
     "text": [
      "0\n",
      "2\n",
      "4\n",
      "6\n",
      "7\n",
      "8\n",
      "9\n",
      "10\n",
      "11\n",
      "Mon\n",
      "['Mon', 'Tues', 'Wed', 'Thu', 'Fri', 'Sat', 'Sun']\n",
      "Tues\n",
      "['Mon', 'Tues', 'Wed', 'Thu', 'Fri', 'Sat', 'Sun']\n"
     ]
    }
   ],
   "source": [
    "# While loops\n",
    "x =0\n",
    "while (x<5):\n",
    "     print(x)\n",
    "     x=x+2\n",
    "\n",
    "#for loops\n",
    "for x in range(4,10):\n",
    "    x=x+2\n",
    "    print(x)\n",
    "\n",
    "# arrays\n",
    "days = [\"Mon\",\"Tues\",\"Wed\",\"Thu\",\"Fri\",\"Sat\",\"Sun\"]\n",
    "\n",
    "for d in days:\n",
    "    if (d==\"Wed\"): break\n",
    "    print(d)\n",
    "    print(days)\n",
    "    "
   ]
  },
  {
   "cell_type": "markdown",
   "metadata": {},
   "source": [
    "*12- Import Libraries*"
   ]
  },
  {
   "cell_type": "code",
   "execution_count": 13,
   "metadata": {},
   "outputs": [
    {
     "name": "stdout",
     "output_type": "stream",
     "text": [
      "The value of pi is 3\n",
      "The mean of the no is  6.25  \n",
      " Clear!!!\n"
     ]
    }
   ],
   "source": [
    "# if u want to print the value of pi\n",
    "\n",
    "import math\n",
    "\n",
    "x= math.pi\n",
    "x=int(x)\n",
    "print(\"The value of pi is\",x)\n",
    "\n",
    "x = [3,4,5,6,7,8,8,9]\n",
    "import statistics\n",
    "print(\"The mean of the no is \",statistics.mean(x),\" \\n Clear!!!\")"
   ]
  },
  {
   "cell_type": "markdown",
   "metadata": {},
   "source": [
    "*13- Troubleshooting*"
   ]
  },
  {
   "cell_type": "code",
   "execution_count": 14,
   "metadata": {},
   "outputs": [
    {
     "ename": "ZeroDivisionError",
     "evalue": "division by zero",
     "output_type": "error",
     "traceback": [
      "\u001b[1;31m---------------------------------------------------------------------------\u001b[0m",
      "\u001b[1;31mZeroDivisionError\u001b[0m                         Traceback (most recent call last)",
      "\u001b[1;32m<ipython-input-14-a08611be9ae0>\u001b[0m in \u001b[0;36m<module>\u001b[1;34m\u001b[0m\n\u001b[1;32m----> 1\u001b[1;33m \u001b[0mprint\u001b[0m\u001b[1;33m(\u001b[0m\u001b[1;36m25\u001b[0m\u001b[1;33m/\u001b[0m\u001b[1;36m0\u001b[0m\u001b[1;33m)\u001b[0m\u001b[1;33m\u001b[0m\u001b[1;33m\u001b[0m\u001b[0m\n\u001b[0m",
      "\u001b[1;31mZeroDivisionError\u001b[0m: division by zero"
     ]
    }
   ],
   "source": [
    "print(25/0)"
   ]
  },
  {
   "cell_type": "markdown",
   "metadata": {},
   "source": [
    "14- Data VIZ"
   ]
  },
  {
   "cell_type": "code",
   "execution_count": 1,
   "metadata": {},
   "outputs": [
    {
     "data": {
      "image/png": "[encoded data removed]",
      "text/plain": [
       "<Figure size 432x288 with 1 Axes>"
      ]
     },
     "metadata": {},
     "output_type": "display_data"
    },
    {
     "data": {
      "image/png": "[encoded data removed]",
      "text/plain": [
       "<Figure size 432x288 with 1 Axes>"
      ]
     },
     "metadata": {},
     "output_type": "display_data"
    },
    {
     "data": {
      "image/png": "[encoded data removed]",
      "text/plain": [
       "<Figure size 432x288 with 1 Axes>"
      ]
     },
     "metadata": {},
     "output_type": "display_data"
    }
   ],
   "source": [
    "# Steps involved in Data Viz\n",
    "# Step1 Import libraries\n",
    "import seaborn as sns\n",
    "import matplotlib.pyplot as plt\n",
    "\n",
    "# Step2 Set a theme\n",
    "sns.set_theme(style=\"ticks\",color_codes=True)\n",
    "\n",
    "# Step3 Import Dataset ( You can also import own data)\n",
    "kashti = sns.load_dataset(\"titanic\")\n",
    "#print(kashti)  # pura data ajega\n",
    "\n",
    "# Step4 Plot basic graph with 1 variable (COunt plot me y axis par count auto ata hay)\n",
    "p=sns.countplot(x='sex',data=kashti)\n",
    "plt.show()\n",
    "\n",
    "# Step5 plot Basic  graph with 2 variable (hue means color)\n",
    "# jese hue me class agae male female ki ticket k hisab se mtlb x ko tor rahaa hay hue apka (LAzmi smjh)\n",
    "p=sns.countplot(x='sex',hue='who',data=kashti)\n",
    "plt.show()\n",
    "\n",
    "# Step6 plot Basic  graph with 2 variable (count plot) with Titles\n",
    "p=sns.countplot(x='sex',hue='class',data=kashti)\n",
    "p.set_title(\"BABA ka count plot for Kashti\")\n",
    "plt.show()\n"
   ]
  },
  {
   "cell_type": "code",
   "execution_count": null,
   "metadata": {},
   "outputs": [],
   "source": []
  },
  {
   "cell_type": "code",
   "execution_count": null,
   "metadata": {},
   "outputs": [],
   "source": []
  }
 ],
 "metadata": {
  "kernelspec": {
   "display_name": "Python 3",
   "language": "python",
   "name": "python3"
  },
  "language_info": {
   "codemirror_mode": {
    "name": "ipython",
    "version": 3
   },
   "file_extension": ".py",
   "mimetype": "text/x-python",
   "name": "python",
   "nbconvert_exporter": "python",
   "pygments_lexer": "ipython3",
   "version": "3.8.5"
  }
 },
 "nbformat": 4,
 "nbformat_minor": 4
}
