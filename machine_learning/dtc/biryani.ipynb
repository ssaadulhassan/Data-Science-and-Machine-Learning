{
 "cells": [
  {
   "cell_type": "code",
   "execution_count": 1,
   "metadata": {},
   "outputs": [
    {
     "data": {
      "text/html": [
       "<div>\n",
       "<style scoped>\n",
       "    .dataframe tbody tr th:only-of-type {\n",
       "        vertical-align: middle;\n",
       "    }\n",
       "\n",
       "    .dataframe tbody tr th {\n",
       "        vertical-align: top;\n",
       "    }\n",
       "\n",
       "    .dataframe thead th {\n",
       "        text-align: right;\n",
       "    }\n",
       "</style>\n",
       "<table border=\"1\" class=\"dataframe\">\n",
       "  <thead>\n",
       "    <tr style=\"text-align: right;\">\n",
       "      <th></th>\n",
       "      <th>age</th>\n",
       "      <th>height</th>\n",
       "      <th>weight</th>\n",
       "      <th>gender</th>\n",
       "      <th>likeness</th>\n",
       "    </tr>\n",
       "  </thead>\n",
       "  <tbody>\n",
       "    <tr>\n",
       "      <th>0</th>\n",
       "      <td>27</td>\n",
       "      <td>170.688</td>\n",
       "      <td>76.0</td>\n",
       "      <td>Male</td>\n",
       "      <td>Biryani</td>\n",
       "    </tr>\n",
       "  </tbody>\n",
       "</table>\n",
       "</div>"
      ],
      "text/plain": [
       "   age   height  weight gender likeness\n",
       "0   27  170.688    76.0   Male  Biryani"
      ]
     },
     "execution_count": 1,
     "metadata": {},
     "output_type": "execute_result"
    }
   ],
   "source": [
    "import pandas as pd\n",
    "df = pd.read_csv(\"mldata_dtc.csv\")\n",
    "df.head(1)"
   ]
  },
  {
   "cell_type": "markdown",
   "metadata": {},
   "source": [
    "> ### Convert gender (M/F) to 1 and 0"
   ]
  },
  {
   "cell_type": "code",
   "execution_count": 2,
   "metadata": {},
   "outputs": [
    {
     "data": {
      "text/html": [
       "<div>\n",
       "<style scoped>\n",
       "    .dataframe tbody tr th:only-of-type {\n",
       "        vertical-align: middle;\n",
       "    }\n",
       "\n",
       "    .dataframe tbody tr th {\n",
       "        vertical-align: top;\n",
       "    }\n",
       "\n",
       "    .dataframe thead th {\n",
       "        text-align: right;\n",
       "    }\n",
       "</style>\n",
       "<table border=\"1\" class=\"dataframe\">\n",
       "  <thead>\n",
       "    <tr style=\"text-align: right;\">\n",
       "      <th></th>\n",
       "      <th>age</th>\n",
       "      <th>height</th>\n",
       "      <th>weight</th>\n",
       "      <th>gender</th>\n",
       "      <th>likeness</th>\n",
       "    </tr>\n",
       "  </thead>\n",
       "  <tbody>\n",
       "    <tr>\n",
       "      <th>243</th>\n",
       "      <td>25</td>\n",
       "      <td>5.7</td>\n",
       "      <td>65.0</td>\n",
       "      <td>1</td>\n",
       "      <td>Biryani</td>\n",
       "    </tr>\n",
       "    <tr>\n",
       "      <th>244</th>\n",
       "      <td>33</td>\n",
       "      <td>157.0</td>\n",
       "      <td>56.0</td>\n",
       "      <td>0</td>\n",
       "      <td>Samosa</td>\n",
       "    </tr>\n",
       "  </tbody>\n",
       "</table>\n",
       "</div>"
      ],
      "text/plain": [
       "     age  height  weight  gender likeness\n",
       "243   25     5.7    65.0       1  Biryani\n",
       "244   33   157.0    56.0       0   Samosa"
      ]
     },
     "execution_count": 2,
     "metadata": {},
     "output_type": "execute_result"
    }
   ],
   "source": [
    "df['gender'] = df['gender'].replace(\"Male\",1)\n",
    "df['gender'] = df['gender'].replace(\"Female\",0)\n",
    "df.tail(2)"
   ]
  },
  {
   "cell_type": "code",
   "execution_count": 3,
   "metadata": {},
   "outputs": [],
   "source": [
    "X=df[['weight','gender','age','height']]\n",
    "#print(\"the value in X feature is \",X.head(3))\n",
    "y=df['likeness']\n",
    "#print(\"the value in y output  is \",y.head(3))"
   ]
  },
  {
   "cell_type": "code",
   "execution_count": 4,
   "metadata": {},
   "outputs": [
    {
     "name": "stderr",
     "output_type": "stream",
     "text": [
      "C:\\Users\\dell7450\\AppData\\Local\\Programs\\Python\\Python310\\lib\\site-packages\\sklearn\\base.py:450: UserWarning: X does not have valid feature names, but DecisionTreeClassifier was fitted with feature names\n",
      "  warnings.warn(\n"
     ]
    },
    {
     "data": {
      "text/plain": [
       "array(['Pakora'], dtype=object)"
      ]
     },
     "execution_count": 4,
     "metadata": {},
     "output_type": "execute_result"
    }
   ],
   "source": [
    "#machine learning algorithm\n",
    "from sklearn.tree import DecisionTreeClassifier\n",
    "# create and fit model\n",
    "model = DecisionTreeClassifier().fit(X,y)\n",
    "#Prediction\n",
    "model.predict([[23,0,23,171]])"
   ]
  },
  {
   "cell_type": "markdown",
   "metadata": {},
   "source": [
    "> ### How to measure accuracy (SPlit 80-20)"
   ]
  },
  {
   "cell_type": "code",
   "execution_count": 5,
   "metadata": {},
   "outputs": [
    {
     "name": "stdout",
     "output_type": "stream",
     "text": [
      "The predicted values from 20% of test input is ['Biryani' 'Biryani' 'Biryani' 'Pakora' 'Biryani' 'Samosa' 'Biryani'\n",
      " 'Samosa' 'Biryani' 'Samosa' 'Pakora' 'Biryani' 'Biryani' 'Biryani'\n",
      " 'Samosa' 'Biryani' 'Biryani' 'Biryani' 'Biryani' 'Biryani' 'Biryani'\n",
      " 'Biryani' 'Biryani' 'Samosa' 'Biryani' 'Biryani' 'Biryani' 'Biryani'\n",
      " 'Pakora' 'Biryani' 'Biryani' 'Samosa' 'Pakora' 'Samosa' 'Biryani'\n",
      " 'Samosa' 'Pakora' 'Biryani' 'Samosa' 'Biryani' 'Pakora' 'Pakora'\n",
      " 'Biryani' 'Biryani' 'Biryani' 'Biryani' 'Biryani' 'Biryani' 'Biryani'] \n",
      "\n"
     ]
    }
   ],
   "source": [
    "# accuracy by splitting\n",
    "from sklearn.model_selection import train_test_split\n",
    "from sklearn.metrics import accuracy_score\n",
    "\n",
    "# split syntax\n",
    "X_train,X_test,y_train,y_test =train_test_split(X, y, test_size=0.2)\n",
    "#Creating and model fitting\n",
    "model = DecisionTreeClassifier().fit(X_train,y_train)\n",
    "# checking predicted values with input test data\n",
    "predicted_values = model.predict(X_test)\n",
    "print(\"The predicted values from 20% of test input is\",predicted_values,\"\\n\")"
   ]
  },
  {
   "cell_type": "markdown",
   "metadata": {},
   "source": [
    "> ### Score Checking"
   ]
  },
  {
   "cell_type": "code",
   "execution_count": 6,
   "metadata": {},
   "outputs": [
    {
     "name": "stdout",
     "output_type": "stream",
     "text": [
      "The accuracy score of model when compared with two test values is 0.4897959183673469\n"
     ]
    }
   ],
   "source": [
    "#Now compare y_test values with the values of y_test(predicted)\n",
    "score = accuracy_score(y_test,predicted_values)\n",
    "print(\"The accuracy score of model when compared with two test values is\",score)"
   ]
  },
  {
   "cell_type": "code",
   "execution_count": 7,
   "metadata": {},
   "outputs": [],
   "source": [
    "#graph\n",
    "from sklearn import tree\n",
    "model = DecisionTreeClassifier().fit(X,y)\n",
    "\n",
    "#graphic\n",
    "tree.export_graphviz(model,\n",
    "out_file=\"foodie.dot\",\n",
    "feature_names=[\"age\",\"gender\",\"weight\",\"height\"],\n",
    "class_names=sorted(y.unique()),\n",
    "label=\"all\",\n",
    "rounded=True,\n",
    "filled=True)"
   ]
  },
  {
   "cell_type": "markdown",
   "metadata": {},
   "source": [
    "> ### How to train and save our Model"
   ]
  },
  {
   "cell_type": "code",
   "execution_count": 8,
   "metadata": {},
   "outputs": [
    {
     "data": {
      "text/plain": [
       "array(['Biryani', 'Biryani', 'Biryani', 'Biryani', 'Biryani', 'Biryani',\n",
       "       'Pakora', 'Biryani', 'Biryani', 'Biryani', 'Biryani', 'Biryani',\n",
       "       'Samosa', 'Samosa', 'Biryani', 'Pakora', 'Biryani', 'Biryani',\n",
       "       'Biryani', 'Biryani', 'Biryani', 'Pakora', 'Biryani', 'Biryani',\n",
       "       'Biryani', 'Samosa', 'Biryani', 'Biryani', 'Biryani', 'Biryani',\n",
       "       'Biryani', 'Biryani', 'Biryani', 'Biryani', 'Biryani', 'Pakora',\n",
       "       'Biryani', 'Pakora', 'Samosa', 'Samosa', 'Biryani', 'Biryani',\n",
       "       'Biryani', 'Samosa', 'Pakora', 'Biryani', 'Biryani', 'Biryani',\n",
       "       'Biryani'], dtype=object)"
      ]
     },
     "execution_count": 8,
     "metadata": {},
     "output_type": "execute_result"
    }
   ],
   "source": [
    "from sklearn.tree import DecisionTreeClassifier\n",
    "import joblib\n",
    "\n",
    "model = DecisionTreeClassifier().fit(X,y)\n",
    "joblib.dump(model,\"foodie.joblib\")\n",
    "\n",
    "# How to run save stored model (Assignment) \n",
    "saved_model=joblib.load('foodie.joblib')\n",
    "\n",
    "Final_predictions=saved_model.predict(X_test)\n",
    "Final_predictions"
   ]
  },
  {
   "cell_type": "code",
   "execution_count": null,
   "metadata": {},
   "outputs": [],
   "source": []
  }
 ],
 "metadata": {
  "interpreter": {
   "hash": "db5a432de994140dfdf74faee511a11810e70d6721ded121368ee94a525b59e5"
  },
  "kernelspec": {
   "display_name": "Python 3.10.1 64-bit",
   "language": "python",
   "name": "python3"
  },
  "language_info": {
   "codemirror_mode": {
    "name": "ipython",
    "version": 3
   },
   "file_extension": ".py",
   "mimetype": "text/x-python",
   "name": "python",
   "nbconvert_exporter": "python",
   "pygments_lexer": "ipython3",
   "version": "3.10.1"
  },
  "orig_nbformat": 4
 },
 "nbformat": 4,
 "nbformat_minor": 2
}
