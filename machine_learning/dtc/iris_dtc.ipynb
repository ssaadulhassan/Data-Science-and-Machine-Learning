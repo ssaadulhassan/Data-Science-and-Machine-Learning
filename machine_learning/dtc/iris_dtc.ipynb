{
 "cells": [
  {
   "cell_type": "code",
   "execution_count": 7,
   "metadata": {},
   "outputs": [],
   "source": [
    "import seaborn as sns\n",
    "import pandas as pd\n",
    "import numpy as np\n",
    "from sklearn.tree import plot_tree\n",
    "import matplotlib.pyplot as plt\n",
    "from sklearn.metrics import accuracy_score\n",
    "from sklearn.model_selection import train_test_split\n",
    "\n",
    "df= sns.load_dataset(\"iris\")\n",
    "df.head(1)\n",
    "import matplotlib.pyplot as plt\n",
    "from sklearn.tree import DecisionTreeClassifier\n",
    "X= df.iloc[:,:-1]\n",
    "y=df.iloc[:, -1:] # conisder only last column"
   ]
  },
  {
   "cell_type": "markdown",
   "metadata": {},
   "source": [
    "> ### Saving High Resolution plots"
   ]
  },
  {
   "cell_type": "code",
   "execution_count": 2,
   "metadata": {},
   "outputs": [
    {
     "data": {
      "image/png": "[encoded data removed]",
      "text/plain": [
       "<Figure size 432x288 with 1 Axes>"
      ]
     },
     "metadata": {
      "needs_background": "light"
     },
     "output_type": "display_data"
    }
   ],
   "source": [
    "model = DecisionTreeClassifier()\n",
    "model.fit(X,y)\n",
    "plt.title(\"Decision Model trained model of Iris\")\n",
    "\n",
    "model.predict(X)\n",
    "plot_tree(model, filled=True)\n",
    "# save in tiff and jpeg\n",
    "plt.savefig('tiff_compressed.tiff',dpi=600, format='tiff',\n",
    "facecolor='white', edgecolor='none',\n",
    "pil_kwargs={\"compression\": \"tiff_lzw\"})\n",
    "\n",
    "plt.show()"
   ]
  },
  {
   "cell_type": "markdown",
   "metadata": {},
   "source": [
    "> ### Running a Saved Model"
   ]
  },
  {
   "cell_type": "code",
   "execution_count": 3,
   "metadata": {},
   "outputs": [],
   "source": [
    "import joblib\n",
    "\n",
    "joblib.dump(model,\"iris.joblib\")\n",
    "\n",
    "# How to run save stored model (Assignment) \n",
    "saved_model=joblib.load('iris.joblib')\n",
    "\n",
    "Final_predictions=saved_model.predict(X)\n",
    "#Final_predictions"
   ]
  },
  {
   "cell_type": "markdown",
   "metadata": {},
   "source": [
    "> ### 80-20"
   ]
  },
  {
   "cell_type": "code",
   "execution_count": 4,
   "metadata": {},
   "outputs": [
    {
     "name": "stdout",
     "output_type": "stream",
     "text": [
      "The accuracy score with 80-20 (X_test) and (y_test) is  1.0\n",
      "The predicted values from 20% of test input is ['virginica' 'versicolor' 'setosa' 'virginica' 'setosa' 'virginica'\n",
      " 'setosa' 'versicolor' 'versicolor' 'versicolor' 'virginica' 'versicolor'\n",
      " 'versicolor' 'versicolor' 'versicolor' 'setosa' 'versicolor' 'versicolor'\n",
      " 'setosa' 'setosa' 'virginica' 'versicolor' 'setosa' 'setosa' 'virginica'\n",
      " 'setosa' 'setosa' 'versicolor' 'versicolor' 'setosa'] \n",
      "\n",
      "The accuracy score of model when compared with twenty percent original test values is 1.0\n",
      "\n",
      " The prediction of 5 unknown values is  ['setosa' 'setosa' 'setosa' 'setosa' 'setosa']\n"
     ]
    },
    {
     "name": "stderr",
     "output_type": "stream",
     "text": [
      "C:\\Users\\dell7450\\AppData\\Local\\Programs\\Python\\Python310\\lib\\site-packages\\sklearn\\base.py:450: UserWarning: X does not have valid feature names, but DecisionTreeClassifier was fitted with feature names\n",
      "  warnings.warn(\n"
     ]
    }
   ],
   "source": [
    "X_train,X_test,y_train,y_test = train_test_split(X, y, test_size=0.2, random_state=0)\n",
    "#model.fit(X,y)\n",
    "#Accuracy test\n",
    "score = model.score(X_test,y_test)\n",
    "print(\"The accuracy score with 80-20 (X_test) and (y_test) is \",score)\n",
    "\n",
    "# checking predicted values with input test data\n",
    "predicted_values = model.predict(X_test)\n",
    "print(\"The predicted values from 20% of test input is\",predicted_values,\"\\n\")\n",
    "\n",
    "superscore = accuracy_score(y_test,predicted_values)\n",
    "print(\"The accuracy score of model when compared with twenty percent original test values is\",superscore)\n",
    "\n",
    "#Checking unknown 5 Values\n",
    "unknownvalues=[[5.2,3.6,1.8,0.1],[5.2,3.5,1.3,1.1],[5.2,3.6,1.4,0.1],[5.5,3.6,1.66,0.1],[5.4,3.6,1.8,0.1]]\n",
    "unknownvalues = model.predict(unknownvalues)\n",
    "print(\"\\n The prediction of 5 unknown values is \",unknownvalues)"
   ]
  },
  {
   "cell_type": "markdown",
   "metadata": {},
   "source": [
    "> ### 90-10"
   ]
  },
  {
   "cell_type": "code",
   "execution_count": 5,
   "metadata": {},
   "outputs": [
    {
     "name": "stdout",
     "output_type": "stream",
     "text": [
      "The accuracy score with 90-10 (X_test) and (y_test) is  1.0\n",
      "The predicted values from 10% of test input is ['virginica' 'versicolor' 'setosa' 'virginica' 'setosa' 'virginica'\n",
      " 'setosa' 'versicolor' 'versicolor' 'versicolor' 'virginica' 'versicolor'\n",
      " 'versicolor' 'versicolor' 'versicolor'] \n",
      "\n",
      "The accuracy score of model when compared with ten percent original test values is 1.0\n",
      "\n",
      " The prediction of 5 unknown values is  ['setosa' 'setosa' 'setosa' 'setosa' 'setosa']\n"
     ]
    },
    {
     "name": "stderr",
     "output_type": "stream",
     "text": [
      "C:\\Users\\dell7450\\AppData\\Local\\Programs\\Python\\Python310\\lib\\site-packages\\sklearn\\base.py:450: UserWarning: X does not have valid feature names, but DecisionTreeClassifier was fitted with feature names\n",
      "  warnings.warn(\n"
     ]
    }
   ],
   "source": [
    "X_train,X_test,y_train,y_test = train_test_split(X, y, test_size=0.1, random_state=0)\n",
    "#model.fit(X,y)\n",
    "#Accuracy test\n",
    "score = model.score(X_test,y_test)\n",
    "print(\"The accuracy score with 90-10 (X_test) and (y_test) is \",score)\n",
    "\n",
    "# checking predicted values with input test data\n",
    "predicted_values = model.predict(X_test)\n",
    "print(\"The predicted values from 10% of test input is\",predicted_values,\"\\n\")\n",
    "\n",
    "superscore = accuracy_score(y_test,predicted_values)\n",
    "print(\"The accuracy score of model when compared with ten percent original test values is\",superscore)\n",
    "\n",
    "#Checking unknown 5 Values\n",
    "unknownvalues=[[5.2,3.6,1.8,0.1],[5.2,3.5,1.3,1.1],[5.2,3.6,1.4,0.1],[5.5,3.6,1.66,0.1],[5.4,3.6,1.8,0.1]]\n",
    "unknownvalues = model.predict(unknownvalues)\n",
    "print(\"\\n The prediction of 5 unknown values is \",unknownvalues)"
   ]
  },
  {
   "cell_type": "markdown",
   "metadata": {},
   "source": [
    "> ### 70-30"
   ]
  },
  {
   "cell_type": "code",
   "execution_count": 6,
   "metadata": {},
   "outputs": [
    {
     "name": "stdout",
     "output_type": "stream",
     "text": [
      "The accuracy score with 70-30 (X_test) and (y_test) is  1.0\n",
      "The predicted values from 30% of test input is ['virginica' 'versicolor' 'setosa' 'virginica' 'setosa' 'virginica'\n",
      " 'setosa' 'versicolor' 'versicolor' 'versicolor' 'virginica' 'versicolor'\n",
      " 'versicolor' 'versicolor' 'versicolor' 'setosa' 'versicolor' 'versicolor'\n",
      " 'setosa' 'setosa' 'virginica' 'versicolor' 'setosa' 'setosa' 'virginica'\n",
      " 'setosa' 'setosa' 'versicolor' 'versicolor' 'setosa' 'virginica'\n",
      " 'versicolor' 'setosa' 'virginica' 'virginica' 'versicolor' 'setosa'\n",
      " 'versicolor' 'versicolor' 'versicolor' 'virginica' 'setosa' 'virginica'\n",
      " 'setosa' 'setosa'] \n",
      "\n",
      "The accuracy score of model when compared with thirty percent original test values is 1.0\n",
      "\n",
      " The prediction of 5 unknown values is  ['setosa' 'setosa' 'setosa' 'setosa' 'setosa']\n"
     ]
    },
    {
     "name": "stderr",
     "output_type": "stream",
     "text": [
      "C:\\Users\\dell7450\\AppData\\Local\\Programs\\Python\\Python310\\lib\\site-packages\\sklearn\\base.py:450: UserWarning: X does not have valid feature names, but DecisionTreeClassifier was fitted with feature names\n",
      "  warnings.warn(\n"
     ]
    }
   ],
   "source": [
    "X_train,X_test,y_train,y_test = train_test_split(X, y, test_size=0.3, random_state=0)\n",
    "#model.fit(X,y)\n",
    "#Accuracy test\n",
    "score = model.score(X_test,y_test)\n",
    "print(\"The accuracy score with 70-30 (X_test) and (y_test) is \",score)\n",
    "\n",
    "# checking predicted values with input test data\n",
    "predicted_values = model.predict(X_test)\n",
    "print(\"The predicted values from 30% of test input is\",predicted_values,\"\\n\")\n",
    "\n",
    "superscore = accuracy_score(y_test,predicted_values)\n",
    "print(\"The accuracy score of model when compared with thirty percent original test values is\",superscore)\n",
    "\n",
    "#Checking unknown 5 Values\n",
    "unknownvalues=[[5.2,3.6,1.8,0.1],[5.2,3.5,1.3,1.1],[5.2,3.6,1.4,0.1],[5.5,3.6,1.66,0.1],[5.4,3.6,1.8,0.1]]\n",
    "unknownvalues = model.predict(unknownvalues)\n",
    "print(\"\\n The prediction of 5 unknown values is \",unknownvalues)"
   ]
  }
 ],
 "metadata": {
  "interpreter": {
   "hash": "db5a432de994140dfdf74faee511a11810e70d6721ded121368ee94a525b59e5"
  },
  "kernelspec": {
   "display_name": "Python 3.10.1 64-bit",
   "language": "python",
   "name": "python3"
  },
  "language_info": {
   "codemirror_mode": {
    "name": "ipython",
    "version": 3
   },
   "file_extension": ".py",
   "mimetype": "text/x-python",
   "name": "python",
   "nbconvert_exporter": "python",
   "pygments_lexer": "ipython3",
   "version": "3.10.1"
  },
  "orig_nbformat": 4
 },
 "nbformat": 4,
 "nbformat_minor": 2
}
