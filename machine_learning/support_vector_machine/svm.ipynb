{
 "cells": [
  {
   "cell_type": "code",
   "execution_count": 34,
   "metadata": {},
   "outputs": [
    {
     "name": "stdout",
     "output_type": "stream",
     "text": [
      "\n",
      " \n",
      " Feature names ['mean radius' 'mean texture' 'mean perimeter' 'mean area'\n",
      " 'mean smoothness' 'mean compactness' 'mean concavity'\n",
      " 'mean concave points' 'mean symmetry' 'mean fractal dimension'\n",
      " 'radius error' 'texture error' 'perimeter error' 'area error'\n",
      " 'smoothness error' 'compactness error' 'concavity error'\n",
      " 'concave points error' 'symmetry error' 'fractal dimension error'\n",
      " 'worst radius' 'worst texture' 'worst perimeter' 'worst area'\n",
      " 'worst smoothness' 'worst compactness' 'worst concavity'\n",
      " 'worst concave points' 'worst symmetry' 'worst fractal dimension']\n",
      "\n",
      " \n",
      " Labels names ['malignant' 'benign']\n",
      "\n",
      " The shape of the data matrix is  (569, 30)\n"
     ]
    }
   ],
   "source": [
    "from sklearn import datasets\n",
    "#load datasets\n",
    "cancer = datasets.load_breast_cancer()\n",
    "# print the names of 13 features\n",
    "#print(\"Feature values in data set \",cancer.data)\n",
    "print(\"\\n \\n Feature names\",cancer.feature_names)\n",
    "# jo output hyan unki names\n",
    "print(\"\\n \\n Labels names\",cancer.target_names)\n",
    "# jo label benign and malignnat hyan unki values\n",
    "# 0 malignant 1 benign\n",
    "#print(\"Labels Values\",cancer.target)\n",
    "\n",
    "# getting to know the array size of dataset\n",
    "print(\"\\n The shape of the data matrix is \",cancer.data.shape)\n",
    "# print top 2 records\n",
    "#print(cancer.data[0:2])\n"
   ]
  },
  {
   "cell_type": "code",
   "execution_count": 35,
   "metadata": {},
   "outputs": [],
   "source": [
    "# Test train split in our dataset \n",
    "from sklearn.model_selection import train_test_split\n",
    "X_train,X_test,y_train,y_test = train_test_split(cancer.data,cancer.target, test_size=0.2, random_state=42)\n",
    "# import svm model\n",
    "from sklearn import svm\n",
    "# Create a svm classifier\n",
    "model = svm.SVC(kernel='linear') # Linear Kernel\n",
    "# train the model using the training sets\n",
    "model.fit(X_train,y_train)\n",
    "# prediction on test data\n",
    "y_pred = model.predict(X_test)\n"
   ]
  },
  {
   "cell_type": "code",
   "execution_count": 36,
   "metadata": {},
   "outputs": [
    {
     "name": "stdout",
     "output_type": "stream",
     "text": [
      "The accuracy score of above is  0.956140350877193\n",
      "Precision of above data set is : 0.9459459459459459\n",
      "Recall score is  0.9859154929577465\n"
     ]
    }
   ],
   "source": [
    "from sklearn import metrics\n",
    "#accuracy score\n",
    "score = metrics.accuracy_score(y_test,y_pred)\n",
    "print(\"The accuracy score of above is \",score)\n",
    "# Model Precision \n",
    "# what percentage of positve tuples are labelled as such\n",
    "print(\"Precision of above data set is :\",metrics.precision_score(y_test,y_pred))\n",
    "# Mode Recall\n",
    "# What percentage of positive tuples are labelled as such\n",
    "print(\"Recall score is \",metrics.recall_score(y_test,y_pred))"
   ]
  },
  {
   "cell_type": "code",
   "execution_count": 39,
   "metadata": {},
   "outputs": [
    {
     "name": "stdout",
     "output_type": "stream",
     "text": [
      "[[39  4]\n",
      " [ 1 70]]\n"
     ]
    },
    {
     "data": {
      "text/plain": [
       "Text(0.5, 1.0, 'Accuracy Score: 95.6140350877193')"
      ]
     },
     "execution_count": 39,
     "metadata": {},
     "output_type": "execute_result"
    },
    {
     "data": {
      "image/png": "[encoded data removed]",
      "text/plain": [
       "<Figure size 648x648 with 2 Axes>"
      ]
     },
     "metadata": {
      "needs_background": "light"
     },
     "output_type": "display_data"
    }
   ],
   "source": [
    "# confusion matrix\n",
    "cm = metrics.confusion_matrix(y_test,y_pred)\n",
    "print(cm)\n",
    "import seaborn as sns\n",
    "import matplotlib.pyplot as plt\n",
    "# Heatmap to visualize COnfusion Matrix\n",
    "plt.figure(figsize=(9,9))\n",
    "sns.heatmap(cm, annot=True, fmt=\".3f\", linewidths=.5, square=True, cmap='Spectral')\n",
    "plt.ylabel('Actual output')\n",
    "plt.xlabel('Predicted output')\n",
    "all_sampletitle= 'Accuracy Score: {0}'.format(score*100)\n",
    "plt.title(all_sampletitle,size =10)"
   ]
  },
  {
   "cell_type": "code",
   "execution_count": null,
   "metadata": {},
   "outputs": [],
   "source": []
  }
 ],
 "metadata": {
  "interpreter": {
   "hash": "db5a432de994140dfdf74faee511a11810e70d6721ded121368ee94a525b59e5"
  },
  "kernelspec": {
   "display_name": "Python 3.10.1 64-bit",
   "language": "python",
   "name": "python3"
  },
  "language_info": {
   "codemirror_mode": {
    "name": "ipython",
    "version": 3
   },
   "file_extension": ".py",
   "mimetype": "text/x-python",
   "name": "python",
   "nbconvert_exporter": "python",
   "pygments_lexer": "ipython3",
   "version": "3.10.1"
  },
  "orig_nbformat": 4
 },
 "nbformat": 4,
 "nbformat_minor": 2
}
