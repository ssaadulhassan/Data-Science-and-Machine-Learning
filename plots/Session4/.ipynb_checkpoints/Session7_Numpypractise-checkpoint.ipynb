{
 "cells": [
  {
   "cell_type": "markdown",
   "metadata": {},
   "source": [
    "### Creating an Array using Numpy"
   ]
  },
  {
   "cell_type": "code",
   "execution_count": null,
   "metadata": {},
   "outputs": [],
   "source": [
    "# array creation 1D\n",
    "import numpy as np\n",
    "food = np.array([\"Pakora\",\"Samosa\",\"Raita\"])\n",
    "food"
   ]
  },
  {
   "cell_type": "code",
   "execution_count": null,
   "metadata": {
    "scrolled": true
   },
   "outputs": [],
   "source": [
    "# array type\n",
    "price = np.array([5,5,5])\n",
    "price\n",
    "type(price)"
   ]
  },
  {
   "cell_type": "code",
   "execution_count": null,
   "metadata": {},
   "outputs": [],
   "source": [
    "len(price)\n",
    "len(food)"
   ]
  },
  {
   "cell_type": "code",
   "execution_count": null,
   "metadata": {},
   "outputs": [],
   "source": [
    "# price[3] Index error\n",
    "price[2]\n",
    "price[0:2]\n",
    "z = price[0:]\n",
    "z\n"
   ]
  },
  {
   "cell_type": "code",
   "execution_count": null,
   "metadata": {},
   "outputs": [],
   "source": [
    "p= food[1]\n",
    "p"
   ]
  },
  {
   "cell_type": "code",
   "execution_count": null,
   "metadata": {},
   "outputs": [],
   "source": [
    "#Array k functions\n",
    "price.mean()"
   ]
  },
  {
   "cell_type": "code",
   "execution_count": null,
   "metadata": {},
   "outputs": [],
   "source": [
    "#zeros array\n",
    "np.zeros(6)\n",
    "#1s array\n",
    "np.ones(5)"
   ]
  },
  {
   "cell_type": "code",
   "execution_count": null,
   "metadata": {},
   "outputs": [],
   "source": [
    "np.empty(7)"
   ]
  },
  {
   "cell_type": "code",
   "execution_count": null,
   "metadata": {},
   "outputs": [],
   "source": [
    "# with a spacing of interval \n",
    "np.arange(2,20,5)"
   ]
  },
  {
   "cell_type": "code",
   "execution_count": null,
   "metadata": {},
   "outputs": [],
   "source": [
    "np.arange(10)\n",
    "# last element is excluded"
   ]
  },
  {
   "cell_type": "code",
   "execution_count": null,
   "metadata": {},
   "outputs": [],
   "source": [
    "# line space at specific interval (10 nums at fixed interval)\n",
    "# isme akhri num ko include kar leta hay\n",
    "np.linspace(3,20,10)\n"
   ]
  },
  {
   "cell_type": "code",
   "execution_count": null,
   "metadata": {},
   "outputs": [],
   "source": [
    "# specify your data types\n",
    "np.empty(50, dtype=np.int64)"
   ]
  },
  {
   "cell_type": "markdown",
   "metadata": {},
   "source": [
    "### Array functions"
   ]
  },
  {
   "cell_type": "code",
   "execution_count": null,
   "metadata": {},
   "outputs": [],
   "source": [
    "a = np.array ([10,12,15,2,4,6,100,320,0,5,10,3])\n",
    "a.sort()\n",
    "a\n"
   ]
  },
  {
   "cell_type": "code",
   "execution_count": null,
   "metadata": {},
   "outputs": [],
   "source": [
    "b = np.array([10.2,3.4,53.6,91.6,45.5])\n",
    "c= np.concatenate((a,b))\n",
    "c\n",
    "c.sort()\n",
    "c\n"
   ]
  },
  {
   "cell_type": "markdown",
   "metadata": {},
   "source": [
    "## 2D arrays"
   ]
  },
  {
   "cell_type": "code",
   "execution_count": null,
   "metadata": {},
   "outputs": [],
   "source": []
  },
  {
   "cell_type": "code",
   "execution_count": null,
   "metadata": {},
   "outputs": [],
   "source": [
    "# You have to have same no dimensions to concatenate\n",
    "a = np.array([[1,2],[5,4]])\n",
    "b = np.array([[6,7,],[8,9]])\n",
    "\n",
    "c = np.concatenate((a,b),axis=0)\n",
    "c"
   ]
  },
  {
   "cell_type": "code",
   "execution_count": null,
   "metadata": {
    "scrolled": false
   },
   "outputs": [],
   "source": [
    "c = np.concatenate((a,b),axis=1)\n",
    "c"
   ]
  },
  {
   "cell_type": "markdown",
   "metadata": {},
   "source": [
    "## 3D Arrays"
   ]
  },
  {
   "cell_type": "code",
   "execution_count": 3,
   "metadata": {},
   "outputs": [
    {
     "name": "stdout",
     "output_type": "stream",
     "text": [
      "[[[0 1 2 3]\n",
      "  [4 5 6 7]]\n",
      "\n",
      " [[0 1 2 3]\n",
      "  [4 5 6 7]]\n",
      "\n",
      " [[0 1 2 3]\n",
      "  [4 5 6 7]]]\n"
     ]
    },
    {
     "data": {
      "text/plain": [
       "3"
      ]
     },
     "execution_count": 3,
     "metadata": {},
     "output_type": "execute_result"
    }
   ],
   "source": [
    " a = np.array([\n",
    "     [[0,1,2,3],[4,5,6,7]],              # 1st 2d dim of a 3d \n",
    "               [[0,1,2,3],[4,5,6,7]],    # 2nd dimension of a 3d\n",
    "               [[0,1,2,3],[4,5,6,7]]     # 3rd dimension of a 3d\n",
    " ])\n",
    "print(a)\n",
    "a.ndim"
   ]
  },
  {
   "cell_type": "code",
   "execution_count": 4,
   "metadata": {
    "scrolled": false
   },
   "outputs": [
    {
     "name": "stdout",
     "output_type": "stream",
     "text": [
      "[[1 2 3 4]\n",
      " [1 2 3 4]\n",
      " [1 2 3 4]]\n",
      "The dimension of array b is 2\n",
      "The size (no of elements) of array b is 12\n",
      "The shape  of array a is 3 dimension and 2 row 4 column as above example that is  (3, 2, 4)\n",
      "The shape  of array b is 3 dimension and column first row last above example that is  (3, 4)\n"
     ]
    }
   ],
   "source": [
    "import numpy as np\n",
    "b = np.array([\n",
    "    [1,2,3,4],[1,2,3,4],[1,2,3,4]\n",
    "             ])\n",
    "print(b)\n",
    "c=b.ndim\n",
    "print(\"The dimension of array b is 2D\",c)\n",
    "d=b.size\n",
    "print(\"The size (no of elements) of array b is\",d)\n",
    "e= a.shape\n",
    "print(\"The shape  of array a is 3 dimension and 2 row 4 column as above example that is \",e)   \n",
    "\n",
    "f= b.shape\n",
    "print(\"The shape  of array b is 3 dimension and column first row last above example that is \",f)   "
   ]
  },
  {
   "cell_type": "code",
   "execution_count": null,
   "metadata": {},
   "outputs": [],
   "source": [
    "# reshaaping concept (like transpose) and dimension conversion\n",
    "# a = np.arange(5)    this will generate error cux (3*2=6 me reshape is a hassle) see line 4\n",
    "a = np.arange(6)\n",
    "print(a)\n",
    "c=a.ndim\n",
    "print(\"the dimension of a is\",c)\n",
    "b = a.reshape(3,2)\n",
    "print(b)\n",
    "d=b.ndim\n",
    "print(\"The converted dimension of\",c,\"D into b is 2d=\",d)"
   ]
  },
  {
   "cell_type": "code",
   "execution_count": null,
   "metadata": {},
   "outputs": [],
   "source": [
    "# More Reshape\n",
    "import numpy as np\n",
    "f= np.reshape(b, newshape=(1,6), order='C')\n",
    "f\n"
   ]
  },
  {
   "cell_type": "markdown",
   "metadata": {},
   "source": [
    "#### Converting 1D array to 2D array by Axes Method"
   ]
  },
  {
   "cell_type": "code",
   "execution_count": 5,
   "metadata": {},
   "outputs": [
    {
     "name": "stdout",
     "output_type": "stream",
     "text": [
      "[1 2 3 4 5 6 7 8 9]\n",
      "the shape of 1D array is 9 elements (9,)\n",
      "a is converted to 2D. Nishani is braces [[1 2 3 4 5 6 7 8 9]]\n",
      "the dimension of b is  (1, 9)\n",
      "a is converted to 2D. Nishani is braces [[1]\n",
      " [2]\n",
      " [3]\n",
      " [4]\n",
      " [5]\n",
      " [6]\n",
      " [7]\n",
      " [8]\n",
      " [9]]\n",
      "the dimension of b is  (9, 1)\n"
     ]
    }
   ],
   "source": [
    "a = np.array([1,2,3,4,5,6,7,8,9])\n",
    "print(a)\n",
    "a.shape\n",
    "print(\"the shape of 1D array is 9 elements\",a.shape)\n",
    "\n",
    "# row wise 2D conversion\n",
    "b=a[np.newaxis,:]\n",
    "print(\"a is converted to 2D. Nishani is braces\",b)\n",
    "print(\"the dimension of b is \",b.shape)\n",
    "\n",
    "# column wise 2D conversion\n",
    "c=a[:,np.newaxis]\n",
    "print(\"a is converted to 2D. Nishani is braces\",c)\n",
    "print(\"the dimension of b is \",c.shape)\n"
   ]
  },
  {
   "cell_type": "markdown",
   "metadata": {},
   "source": [
    "#### Adjusting dimensions of converted 2D from above"
   ]
  },
  {
   "cell_type": "code",
   "execution_count": 9,
   "metadata": {},
   "outputs": [
    {
     "data": {
      "text/plain": [
       "5"
      ]
     },
     "execution_count": 9,
     "metadata": {},
     "output_type": "execute_result"
    }
   ],
   "source": [
    "d = c.reshape(3,3)\n",
    "d[1][1]"
   ]
  }
 ],
 "metadata": {
  "kernelspec": {
   "display_name": "Python 3",
   "language": "python",
   "name": "python3"
  }
 },
 "nbformat": 4,
 "nbformat_minor": 4
}
